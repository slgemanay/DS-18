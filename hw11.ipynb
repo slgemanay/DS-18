{
 "cells": [
  {
   "cell_type": "code",
   "execution_count": 1,
   "metadata": {},
   "outputs": [],
   "source": [
    "import pandas as pd"
   ]
  },
  {
   "cell_type": "markdown",
   "metadata": {},
   "source": [
    "Задача 1"
   ]
  },
  {
   "cell_type": "code",
   "execution_count": 17,
   "metadata": {
    "scrolled": true
   },
   "outputs": [
    {
     "data": {
      "text/html": [
       "<div>\n",
       "<style scoped>\n",
       "    .dataframe tbody tr th:only-of-type {\n",
       "        vertical-align: middle;\n",
       "    }\n",
       "\n",
       "    .dataframe tbody tr th {\n",
       "        vertical-align: top;\n",
       "    }\n",
       "\n",
       "    .dataframe thead th {\n",
       "        text-align: right;\n",
       "    }\n",
       "</style>\n",
       "<table border=\"1\" class=\"dataframe\">\n",
       "  <thead>\n",
       "    <tr style=\"text-align: right;\">\n",
       "      <th></th>\n",
       "      <th>userId</th>\n",
       "      <th>movieId</th>\n",
       "      <th>rating</th>\n",
       "      <th>timestamp</th>\n",
       "    </tr>\n",
       "  </thead>\n",
       "  <tbody>\n",
       "    <tr>\n",
       "      <th>3</th>\n",
       "      <td>1</td>\n",
       "      <td>47</td>\n",
       "      <td>5.0</td>\n",
       "      <td>964983815</td>\n",
       "    </tr>\n",
       "    <tr>\n",
       "      <th>4</th>\n",
       "      <td>1</td>\n",
       "      <td>50</td>\n",
       "      <td>5.0</td>\n",
       "      <td>964982931</td>\n",
       "    </tr>\n",
       "    <tr>\n",
       "      <th>6</th>\n",
       "      <td>1</td>\n",
       "      <td>101</td>\n",
       "      <td>5.0</td>\n",
       "      <td>964980868</td>\n",
       "    </tr>\n",
       "    <tr>\n",
       "      <th>8</th>\n",
       "      <td>1</td>\n",
       "      <td>151</td>\n",
       "      <td>5.0</td>\n",
       "      <td>964984041</td>\n",
       "    </tr>\n",
       "    <tr>\n",
       "      <th>9</th>\n",
       "      <td>1</td>\n",
       "      <td>157</td>\n",
       "      <td>5.0</td>\n",
       "      <td>964984100</td>\n",
       "    </tr>\n",
       "  </tbody>\n",
       "</table>\n",
       "</div>"
      ],
      "text/plain": [
       "   userId  movieId  rating  timestamp\n",
       "3       1       47     5.0  964983815\n",
       "4       1       50     5.0  964982931\n",
       "6       1      101     5.0  964980868\n",
       "8       1      151     5.0  964984041\n",
       "9       1      157     5.0  964984100"
      ]
     },
     "execution_count": 17,
     "metadata": {},
     "output_type": "execute_result"
    }
   ],
   "source": [
    "ratings = pd.read_csv('ml-latest-small/ratings.csv')\n",
    "movies = pd.read_csv('ml-latest-small/movies.csv')\n",
    "best_films = ratings['rating'] == 5.0\n",
    "ratings.loc[best_films].head()"
   ]
  },
  {
   "cell_type": "code",
   "execution_count": 18,
   "metadata": {},
   "outputs": [],
   "source": [
    "best_film_id = ratings['movieId'].value_counts().head(1)"
   ]
  },
  {
   "cell_type": "code",
   "execution_count": 23,
   "metadata": {},
   "outputs": [
    {
     "data": {
      "text/html": [
       "<div>\n",
       "<style scoped>\n",
       "    .dataframe tbody tr th:only-of-type {\n",
       "        vertical-align: middle;\n",
       "    }\n",
       "\n",
       "    .dataframe tbody tr th {\n",
       "        vertical-align: top;\n",
       "    }\n",
       "\n",
       "    .dataframe thead th {\n",
       "        text-align: right;\n",
       "    }\n",
       "</style>\n",
       "<table border=\"1\" class=\"dataframe\">\n",
       "  <thead>\n",
       "    <tr style=\"text-align: right;\">\n",
       "      <th></th>\n",
       "      <th>movieId</th>\n",
       "      <th>title</th>\n",
       "      <th>genres</th>\n",
       "    </tr>\n",
       "  </thead>\n",
       "  <tbody>\n",
       "    <tr>\n",
       "      <th>329</th>\n",
       "      <td>371</td>\n",
       "      <td>Paper, The (1994)</td>\n",
       "      <td>Comedy|Drama</td>\n",
       "    </tr>\n",
       "  </tbody>\n",
       "</table>\n",
       "</div>"
      ],
      "text/plain": [
       "     movieId              title        genres\n",
       "329      371  Paper, The (1994)  Comedy|Drama"
      ]
     },
     "execution_count": 23,
     "metadata": {},
     "output_type": "execute_result"
    }
   ],
   "source": [
    "movies.loc[best_film_id]"
   ]
  },
  {
   "cell_type": "markdown",
   "metadata": {},
   "source": [
    "Задача 2"
   ]
  },
  {
   "cell_type": "code",
   "execution_count": 2,
   "metadata": {},
   "outputs": [],
   "source": [
    "power = pd.read_csv('power.csv')"
   ]
  },
  {
   "cell_type": "code",
   "execution_count": 4,
   "metadata": {},
   "outputs": [
    {
     "data": {
      "text/plain": [
       "118284.0"
      ]
     },
     "execution_count": 4,
     "metadata": {},
     "output_type": "execute_result"
    }
   ],
   "source": [
    "filtered_quantity = power[((power['country'] == 'Latvia')|(power['country'] == 'Estonia')|(power['country'] == 'Litva'))&(power['year'] >= 2005)&(power['year'] <= 2010)&(power['quantity'] > 0)&((power['category'] == 4)|(power['category'] == 12)|(power['category'] == 21))]\n",
    "sum_quantity = filtered_quantity['quantity'].sum()\n",
    "sum_quantity"
   ]
  },
  {
   "cell_type": "markdown",
   "metadata": {},
   "source": [
    "Задача 3"
   ]
  },
  {
   "cell_type": "code",
   "execution_count": 8,
   "metadata": {},
   "outputs": [],
   "source": [
    "pd.read_html('https://www.sports.ru/team-russia/calendar/')\n",
    "page_url = 'https://www.sports.ru/team-russia/calendar/'\n",
    "df = pd.read_html(page_url, attrs = {'class': 'stat-table'}, encoding='utf-8')"
   ]
  },
  {
   "cell_type": "code",
   "execution_count": 9,
   "metadata": {},
   "outputs": [
    {
     "data": {
      "text/plain": [
       "[                Дата                   Турнир   Соперник Unnamed: 3    Счет  \\\n",
       " 0   24.03.2021|22:45  Квалификация ЧМ: Европа     Мальта   В гостях   1 : 3   \n",
       " 1   27.03.2021|17:00  Квалификация ЧМ: Европа   Словения       Дома   2 : 1   \n",
       " 2   30.03.2021|21:45  Квалификация ЧМ: Европа   Словакия   В гостях   2 : 1   \n",
       " 3   12.06.2021|22:00         Чемпионат Европы    Бельгия   В гостях  превью   \n",
       " 4   16.06.2021|16:00         Чемпионат Европы  Финляндия   В гостях  превью   \n",
       " 5   21.06.2021|22:00         Чемпионат Европы      Дания       Дома  превью   \n",
       " 6   01.09.2021|21:45  Квалификация ЧМ: Европа   Хорватия       Дома  превью   \n",
       " 7   04.09.2021|16:00  Квалификация ЧМ: Европа       Кипр   В гостях  превью   \n",
       " 8   07.09.2021|21:45  Квалификация ЧМ: Европа     Мальта       Дома  превью   \n",
       " 9   08.10.2021|21:45  Квалификация ЧМ: Европа   Словакия       Дома  превью   \n",
       " 10  11.10.2021|21:45  Квалификация ЧМ: Европа   Словения   В гостях  превью   \n",
       " 11  11.11.2021|20:00  Квалификация ЧМ: Европа       Кипр       Дома  превью   \n",
       " 12  14.11.2021|17:00  Квалификация ЧМ: Европа   Хорватия   В гостях  превью   \n",
       " \n",
       "     Unnamed: 5 Зрители  \n",
       " 0          NaN       –  \n",
       " 1          NaN       –  \n",
       " 2          NaN       –  \n",
       " 3          NaN       –  \n",
       " 4          NaN       –  \n",
       " 5          NaN       –  \n",
       " 6          NaN       –  \n",
       " 7          NaN       –  \n",
       " 8          NaN       –  \n",
       " 9          NaN       –  \n",
       " 10         NaN       –  \n",
       " 11         NaN       –  \n",
       " 12         NaN       –  ]"
      ]
     },
     "execution_count": 9,
     "metadata": {},
     "output_type": "execute_result"
    }
   ],
   "source": [
    "df"
   ]
  },
  {
   "cell_type": "code",
   "execution_count": null,
   "metadata": {},
   "outputs": [],
   "source": []
  }
 ],
 "metadata": {
  "kernelspec": {
   "display_name": "Python 3",
   "language": "python",
   "name": "python3"
  },
  "language_info": {
   "codemirror_mode": {
    "name": "ipython",
    "version": 3
   },
   "file_extension": ".py",
   "mimetype": "text/x-python",
   "name": "python",
   "nbconvert_exporter": "python",
   "pygments_lexer": "ipython3",
   "version": "3.8.3"
  }
 },
 "nbformat": 4,
 "nbformat_minor": 4
}
