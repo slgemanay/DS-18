{
 "cells": [
  {
   "cell_type": "markdown",
   "metadata": {},
   "source": [
    "Задача 1\n"
   ]
  },
  {
   "cell_type": "code",
   "execution_count": 10,
   "metadata": {},
   "outputs": [
    {
     "name": "stdout",
     "output_type": "stream",
     "text": [
      "Введите строку 1ыавпоывол\n",
      "Введите строку 2авпвыапоывлоывлоыва\n",
      "Вторая строка длинее первой\n"
     ]
    }
   ],
   "source": [
    "phrase1 = input('Введите строку 1')\n",
    "phrase2 = input('Введите строку 2')\n",
    "a = len(phrase1)\n",
    "b = len(phrase2)\n",
    "if a > b:\n",
    "  print('Первая строка длинее второй')\n",
    "else:\n",
    "  print('Вторая строка длинее первой')"
   ]
  },
  {
   "cell_type": "markdown",
   "metadata": {},
   "source": [
    "Задача 2"
   ]
  },
  {
   "cell_type": "code",
   "execution_count": 31,
   "metadata": {},
   "outputs": [
    {
     "name": "stdout",
     "output_type": "stream",
     "text": [
      "Введите год1600\n",
      "Год високосный\n"
     ]
    }
   ],
   "source": [
    "year = int(input('Введите год'))\n",
    "a = year % 4\n",
    "b = year % 100\n",
    "c = year % 400\n",
    "if a == 0:\n",
    "    if b == 0 and c == 0:\n",
    "        print('Год високосный')\n",
    "    else:\n",
    "        print ('Год не високосный')\n",
    "else:\n",
    "    print('Год не високосный')"
   ]
  },
  {
   "cell_type": "markdown",
   "metadata": {},
   "source": [
    "Задача 3"
   ]
  },
  {
   "cell_type": "code",
   "execution_count": 33,
   "metadata": {},
   "outputs": [
    {
     "ename": "SyntaxError",
     "evalue": "invalid syntax (<ipython-input-33-eaba7e875f0d>, line 3)",
     "output_type": "error",
     "traceback": [
      "\u001b[1;36m  File \u001b[1;32m\"<ipython-input-33-eaba7e875f0d>\"\u001b[1;36m, line \u001b[1;32m3\u001b[0m\n\u001b[1;33m    if month = Март and 21 <= day <= 31 or month = Апрель and 1 <= day <= 20:\u001b[0m\n\u001b[1;37m             ^\u001b[0m\n\u001b[1;31mSyntaxError\u001b[0m\u001b[1;31m:\u001b[0m invalid syntax\n"
     ]
    }
   ],
   "source": [
    "month = input('Введите месяц')\n",
    "day = int(input('Введите день'))\n",
    "if month = Март and 21 <= day <= 31 or month = Апрель and 1 <= day <= 20:\n",
    "    print('Овен')\n",
    "    elif month = 'Апрель' and 21 <= day <= 30 or month = 'Май' and 1 <= day <= 20:\n",
    "        print('Телец')\n",
    "    elif month =  'Май' and 21 <= day <= 31 or month = 'Июнь' and 1 <= day <= 21:\n",
    "        print('Близнецы')\n",
    "    elif month = 'июнь' and 22 <= day <= 30 or month = 'Июль' and 1 <= day <= 22:\n",
    "        print('Рак')\n",
    "    elif month = 'Июль' and 23 <= day <= 31 or month = 'Август' and 1 <= day <= 23:\n",
    "        print('Лев')\n",
    "    elif month = 'Август' and 24 <= day <= 30 or month = 'Сентябрь' and 1 <= day <= 22:\n",
    "        print('Дева')\n",
    "    elif month = 'Сентябрь' and 21 <= day <= 30 or month = 'Октябрь' and 1 <= day <= 20:\n",
    "        print('Весы')\n",
    "    elif month =  'Октябрь' and 24 <= day <= 31 or month = 'Ноябрь' and 1 <= day <= 22:\n",
    "        print('Скорпион')\n",
    "    elif month = 'Ноябрь' and 23 <= day <= 30 or month = 'Декабрь' and 1 <= day <= 21:\n",
    "        print('Стрелец')\n",
    "    elif month = 'Декабрь' and 22 <= day <= 31 or month = 'Январь' and 1 <= day <= 19:\n",
    "        print('Козерог')\n",
    "    elif month = 'Январь' and 20 <= day <= 30 or month = 'Февраль' and 1 <= day <= 18:\n",
    "        print('Водолей')\n",
    "    elif month = 'Февраль' and 19 <= day <= 31 or month = 'Март' and 1 <= day <= 20:\n",
    "        print('Рыбы')   \n"
   ]
  },
  {
   "cell_type": "markdown",
   "metadata": {},
   "source": [
    "Задача 4"
   ]
  },
  {
   "cell_type": "code",
   "execution_count": 4,
   "metadata": {},
   "outputs": [
    {
     "ename": "IndentationError",
     "evalue": "expected an indented block (<ipython-input-4-38fa2455613a>, line 5)",
     "output_type": "error",
     "traceback": [
      "\u001b[1;36m  File \u001b[1;32m\"<ipython-input-4-38fa2455613a>\"\u001b[1;36m, line \u001b[1;32m5\u001b[0m\n\u001b[1;33m    print('Коробка №1')\u001b[0m\n\u001b[1;37m    ^\u001b[0m\n\u001b[1;31mIndentationError\u001b[0m\u001b[1;31m:\u001b[0m expected an indented block\n"
     ]
    }
   ],
   "source": [
    "width = int(input('Введите ширину'))\n",
    "length = int(input('Введите длину'))\n",
    "height = int(input('Введите высоту'))\n",
    "if width < 15 and length < 15 and height < 15:\n",
    "print('Коробка №1')\n",
    "   elif length >= 200:\n",
    "    print('Упаковка для лыж')\n",
    "    elif 15 <= width <= 50 or 15 <= length <= 50 or 15 <= height <= 50:\n",
    "    print('Коробка №2')\n",
    "else:\n",
    "print('Стандартная коробка №3')\n",
    "    "
   ]
  },
  {
   "cell_type": "code",
   "execution_count": null,
   "metadata": {},
   "outputs": [],
   "source": []
  }
 ],
 "metadata": {
  "kernelspec": {
   "display_name": "Python 3",
   "language": "python",
   "name": "python3"
  },
  "language_info": {
   "codemirror_mode": {
    "name": "ipython",
    "version": 3
   },
   "file_extension": ".py",
   "mimetype": "text/x-python",
   "name": "python",
   "nbconvert_exporter": "python",
   "pygments_lexer": "ipython3",
   "version": "3.8.3"
  }
 },
 "nbformat": 4,
 "nbformat_minor": 4
}
