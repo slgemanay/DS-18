{
 "cells": [
  {
   "cell_type": "markdown",
   "metadata": {},
   "source": [
    "Задача 1"
   ]
  },
  {
   "cell_type": "code",
   "execution_count": 28,
   "metadata": {},
   "outputs": [
    {
     "name": "stdout",
     "output_type": "stream",
     "text": [
      "Введите слово\n",
      "qwertyu\n",
      "r\n"
     ]
    }
   ],
   "source": [
    "print('Введите слово')\n",
    "word = input()\n",
    "length = len(word)\n",
    "if length % 2 == 0:\n",
    "    int(length)\n",
    "    index2 = length // 2\n",
    "    index1 = index2 - 1\n",
    "    print(word[index1])\n",
    "    print(word[index2])\n",
    "else:\n",
    "    index1 = length // 2\n",
    "    int(index1)\n",
    "    print(word[index1])\n",
    "    \n"
   ]
  },
  {
   "cell_type": "markdown",
   "metadata": {},
   "source": [
    "Задача 2"
   ]
  },
  {
   "cell_type": "code",
   "execution_count": 2,
   "metadata": {
    "scrolled": true
   },
   "outputs": [
    {
     "name": "stdout",
     "output_type": "stream",
     "text": [
      "1\n",
      "Введите число\n",
      "2\n",
      "Введите число\n",
      "3\n",
      "Введите число\n",
      "4\n",
      "Введите число\n",
      "0\n",
      "10\n"
     ]
    }
   ],
   "source": [
    "total_sum = 0\n",
    "number = int(input())\n",
    "while number != 0:\n",
    "    total_sum = total_sum + number\n",
    "    print('Введите число')\n",
    "    number = int(input())\n",
    "print(total_sum)   \n",
    "    "
   ]
  },
  {
   "cell_type": "markdown",
   "metadata": {},
   "source": [
    "Задача 3"
   ]
  },
  {
   "cell_type": "code",
<<<<<<< HEAD
   "execution_count": 8,
=======
   "execution_count": 34,
>>>>>>> d53f58edd566bcf0a98f2a18333a93519b3de6d7
   "metadata": {},
   "outputs": [
    {
     "name": "stdout",
     "output_type": "stream",
     "text": [
<<<<<<< HEAD
      "Alex и Emma\n",
      "Arthur и Kate\n",
      "John и Kira\n",
      "Peter и Liza\n",
      "Richard и Trisha\n"
=======
      "Peter\n",
      "Kate\n",
      "Alex\n",
      "Liza\n",
      "John\n",
      "Kira\n",
      "Arthur\n",
      "Emma\n",
      "Richard\n",
      "Trisha\n"
>>>>>>> d53f58edd566bcf0a98f2a18333a93519b3de6d7
     ]
    }
   ],
   "source": [
    "boys = ['Peter', 'Alex', 'John', 'Arthur', 'Richard']\n",
    "girls = ['Kate', 'Liza', 'Kira', 'Emma', 'Trisha']\n",
    "ammount_of_boys = len(boys)\n",
    "ammount_of_girls = len(girls)\n",
<<<<<<< HEAD
    "boys.sort()\n",
    "girls.sort()\n",
    "i = -1\n",
    "if ammount_of_boys == ammount_of_girls:\n",
    "    for element in boys:\n",
    "        print(element, 'и', end = ' ')\n",
    "        i = i + 1\n",
    "        for element in girls:\n",
    "            print(girls[i], sep ='\\n')\n",
=======
    "i = -1\n",
    "if ammount_of_boys == ammount_of_girls:\n",
    "    for element in boys:\n",
    "        sorted(boys)\n",
    "        print(element)\n",
    "        i = i + 1\n",
    "        for element in girls:\n",
    "            sorted(girls)\n",
    "            print(girls[i])\n",
>>>>>>> d53f58edd566bcf0a98f2a18333a93519b3de6d7
    "            break\n",
    "else:\n",
    "    print('Кто-то останется без пары')"
   ]
  },
  {
   "cell_type": "markdown",
   "metadata": {},
   "source": [
    "Задача 4"
   ]
  },
  {
   "cell_type": "code",
   "execution_count": 18,
   "metadata": {},
   "outputs": [
    {
     "name": "stdout",
     "output_type": "stream",
     "text": [
      "Thailand - 23.9 C\n",
      "Germany - 13.8 C\n",
      "Russia - 3.7 C\n",
      "Poland - 12.0 C\n"
     ]
    }
   ],
   "source": [
    "countries_temperature = [['Thailand', [75.2, 77, 78.8, 73.4, 68, 75.2, 77]],['Germany', [57.2, 55.4, 59, 59, 53.6]],['Russia', [35.6, 37.4, 39.2, 41, 42.8, 39.2, 35.6]],['Poland', [50, 50, 53.6, 57.2, 55.4, 55.4]]\n",
    "]\n",
    "for element in countries_temperature: \n",
    "    length = len(element[1])\n",
    "    tsum = sum(element[1])\n",
    "    degrees_Celsius = (tsum / length - 32) / 1.8\n",
    "    print(element[0],'-',\"%.1f\" % degrees_Celsius,'C')\n",
    "        \n",
    "        "
   ]
  },
  {
   "cell_type": "code",
   "execution_count": null,
   "metadata": {},
   "outputs": [],
   "source": [
    "Thailand_farengate = countries_temperature[0]\n",
    "Germany_farengate = countries_temperature[1]\n",
    "Russia_farengate = countries_temperature[2]\n",
    "Poland_farengate = countries_temperature[3]\n",
    "temperature0 = Thailand_farengate[1]\n",
    "temperature1 = Germany_farengate[1]\n",
    "temperature2 = Russia_farengate[1]\n",
    "temperature3 = Poland_farengate[1]"
   ]
  }
 ],
 "metadata": {
  "kernelspec": {
   "display_name": "Python 3",
   "language": "python",
   "name": "python3"
  },
  "language_info": {
   "codemirror_mode": {
    "name": "ipython",
    "version": 3
   },
   "file_extension": ".py",
   "mimetype": "text/x-python",
   "name": "python",
   "nbconvert_exporter": "python",
   "pygments_lexer": "ipython3",
   "version": "3.8.3"
  }
 },
 "nbformat": 4,
 "nbformat_minor": 4
}
