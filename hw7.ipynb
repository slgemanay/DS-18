{
 "cells": [
  {
   "cell_type": "markdown",
   "metadata": {},
   "source": [
    "Задача 1"
   ]
  },
  {
   "cell_type": "code",
   "execution_count": 21,
   "metadata": {},
   "outputs": [
    {
     "name": "stdout",
     "output_type": "stream",
     "text": [
      "2002-10-01 00:00:00\n",
      "2013-11-10 00:00:00\n",
      "1977-08-18 00:00:00\n"
     ]
    }
   ],
   "source": [
    "from datetime import datetime\n",
    "date_string1 = 'Wednesday, October 2, 2002'\n",
    "date_string2 = 'Friday, 11.10.13'\n",
    "date_string3 = 'Thursday, 18 August 1977'\n",
    "date_datetime1 = datetime.strptime( date_string1, '%A, %B %w, %Y')\n",
    "print(date_datetime1)\n",
    "date_datetime2 = datetime.strptime( date_string2, '%A, %m.%d.%y')\n",
    "print(date_datetime2)\n",
    "date_datetime3 = datetime.strptime( date_string3, '%A, %d %B %Y')\n",
    "print(date_datetime3)"
   ]
  },
  {
   "cell_type": "markdown",
   "metadata": {},
   "source": [
    "Задача 2"
   ]
  },
  {
   "cell_type": "code",
   "execution_count": 52,
   "metadata": {},
   "outputs": [],
   "source": [
    "from datetime import datetime\n",
    "stream = ['2018-04-02', '2018-02-29', '2018-19-02']\n",
    "def func(stream):\n",
    "    for i in stream:\n",
    "        date_datetime = datetime.strptime( stream[i], '%Y-%m-%d')\n",
    "        try:\n",
    "            date_datetime(month <= 12)\n",
    "            print('True')\n",
    "        except: \n",
    "            print('False')"
   ]
  },
  {
   "cell_type": "markdown",
   "metadata": {},
   "source": [
    "Задача 3"
   ]
  },
  {
   "cell_type": "code",
   "execution_count": 54,
   "metadata": {},
   "outputs": [],
   "source": [
    "from datetime import datetime\n",
    "def date_range(start_date,end_date):\n",
    "    print('Введите начальную дату в формате YYYY-MM-DD')\n",
    "    start_date = input()\n",
    "    print('Введите конечную дату в формате YYYY-MM-DD')\n",
    "    end_date = input()\n",
    "    try:\n",
    "        date_datetime1 = datetime.strptime( start_date, '%Y-%m-%d')\n",
    "        date_datetime2 = datetime.strptime( end_date, '%Y-%m-%d')\n",
    "        current_dt =  date_datetime1\n",
    "        if current_dt <= date_datetime2:\n",
    "            while current_dt <= date_datetime2:\n",
    "                print(current_dt.strftime('%Y-%m-%d'))\n",
    "                current_dt += timedelta(days=1)\n",
    "    except:\n",
    "            print('Даты некоректны')"
   ]
  },
  {
   "cell_type": "code",
   "execution_count": null,
   "metadata": {},
   "outputs": [],
   "source": []
  }
 ],
 "metadata": {
  "kernelspec": {
   "display_name": "Python 3",
   "language": "python",
   "name": "python3"
  },
  "language_info": {
   "codemirror_mode": {
    "name": "ipython",
    "version": 3
   },
   "file_extension": ".py",
   "mimetype": "text/x-python",
   "name": "python",
   "nbconvert_exporter": "python",
   "pygments_lexer": "ipython3",
   "version": "3.8.3"
  }
 },
 "nbformat": 4,
 "nbformat_minor": 4
}
