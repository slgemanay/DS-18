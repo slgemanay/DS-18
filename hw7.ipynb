{
 "cells": [
  {
   "cell_type": "markdown",
   "metadata": {},
   "source": [
    "Задача 1\n",
    "The Moscow Times - Wednesday, October 2, 2002\n",
    "The Guardian - Friday, 11.10.13\n",
    "Daily News - Thursday, 18 August 1977"
   ]
  },
  {
   "cell_type": "code",
   "execution_count": 1,
   "metadata": {},
   "outputs": [
    {
     "ename": "IndentationError",
     "evalue": "unexpected indent (<ipython-input-1-9398c7b101e6>, line 2)",
     "output_type": "error",
     "traceback": [
      "\u001b[1;36m  File \u001b[1;32m\"<ipython-input-1-9398c7b101e6>\"\u001b[1;36m, line \u001b[1;32m2\u001b[0m\n\u001b[1;33m    class datetime\u001b[0m\n\u001b[1;37m    ^\u001b[0m\n\u001b[1;31mIndentationError\u001b[0m\u001b[1;31m:\u001b[0m unexpected indent\n"
     ]
    }
   ],
   "source": [
    "import datetime.py\n",
    "    class datetime\n",
    "    from datetime import datetime\n",
    "    date_string1 = 'Wednesday, October 2, 2002'\n",
    "    date_string2 = 'Friday, 11.10.13'\n",
    "    date_string3 = 'Thursday, 18 August 1977'\n",
    "    date_datetime1 = datetime.strptime( date_string1, '%A.%B.%d.%Y')\n",
    "    date_datetime1\n",
    "    date_datetime2 = datetime.strptime( date_string2, '%A.%m.%d.%y')\n",
    "    date_datetime2\n",
    "    date_datetime3 = datetime.strptime( date_string3, '%A.%d.%B.%Y')\n",
    "    date_datetime3"
   ]
  },
  {
   "cell_type": "markdown",
   "metadata": {},
   "source": [
    "Задача 2"
   ]
  },
  {
   "cell_type": "code",
   "execution_count": 1,
   "metadata": {},
   "outputs": [
    {
     "ename": "IndentationError",
     "evalue": "unexpected indent (<ipython-input-1-a8b17b3e0bd5>, line 2)",
     "output_type": "error",
     "traceback": [
      "\u001b[1;36m  File \u001b[1;32m\"<ipython-input-1-a8b17b3e0bd5>\"\u001b[1;36m, line \u001b[1;32m2\u001b[0m\n\u001b[1;33m    class datetime\u001b[0m\n\u001b[1;37m    ^\u001b[0m\n\u001b[1;31mIndentationError\u001b[0m\u001b[1;31m:\u001b[0m unexpected indent\n"
     ]
    }
   ],
   "source": [
    "import datetime.py\n",
    "    class datetime\n",
    "    from datetime import datetime\n",
    "    stream = ['2018-04-02', '2018-02-29', '2018-19-02']\n",
    "        def func():\n",
    "            for i in stream:\n",
    "                date_string = stream[i]\n",
    "                date_datetime = datetime.strptime( stream[i], '%Y.%m.%d')\n",
    "                if date_datetime(month <= 12):\n",
    "                    print('True')\n",
    "                    else\n",
    "                    print('False')\n",
    "        return          "
   ]
  },
  {
   "cell_type": "markdown",
   "metadata": {},
   "source": [
    "Задача 3"
   ]
  },
  {
   "cell_type": "code",
   "execution_count": 2,
   "metadata": {},
   "outputs": [
    {
     "ename": "IndentationError",
     "evalue": "unexpected indent (<ipython-input-2-b021a7d9dced>, line 2)",
     "output_type": "error",
     "traceback": [
      "\u001b[1;36m  File \u001b[1;32m\"<ipython-input-2-b021a7d9dced>\"\u001b[1;36m, line \u001b[1;32m2\u001b[0m\n\u001b[1;33m    class datetime\u001b[0m\n\u001b[1;37m    ^\u001b[0m\n\u001b[1;31mIndentationError\u001b[0m\u001b[1;31m:\u001b[0m unexpected indent\n"
     ]
    }
   ],
   "source": [
    "import datetime.py\n",
    "    class datetime\n",
    "    from datetime import datetime\n",
    "    def date_range():\n",
    "        print('Введите начальную дату в формате YYYY-MM-DD')\n",
    "        start_date = input()\n",
    "        print('Введите конечную дату в формате YYYY-MM-DD')\n",
    "        end_date = input()\n",
    "        date_datetime1 = datetime.strptime( start_date, '%Y-%m-%d')\n",
    "        date_datetime2 = datetime.strptime( end_date, '%Y-%m-%d')\n",
    "        current_dt =  date_datetime1\n",
    "        if current_dt <= date_datetime2:\n",
    "            while current_dt <= date_datetime2:\n",
    "                print(current_dt.strftime('%Y-%m-%d'))\n",
    "                current_dt += timedelta(days=1)\n",
    "                else\n",
    "                print('Даты некоректны')\n",
    "        return"
   ]
  },
  {
   "cell_type": "code",
   "execution_count": null,
   "metadata": {},
   "outputs": [],
   "source": []
  }
 ],
 "metadata": {
  "kernelspec": {
   "display_name": "Python 3",
   "language": "python",
   "name": "python3"
  },
  "language_info": {
   "codemirror_mode": {
    "name": "ipython",
    "version": 3
   },
   "file_extension": ".py",
   "mimetype": "text/x-python",
   "name": "python",
   "nbconvert_exporter": "python",
   "pygments_lexer": "ipython3",
   "version": "3.8.3"
  }
 },
 "nbformat": 4,
 "nbformat_minor": 4
}
