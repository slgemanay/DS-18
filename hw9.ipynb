{
 "cells": [
  {
   "cell_type": "markdown",
   "metadata": {},
   "source": [
    "Задание 1"
   ]
  },
  {
   "cell_type": "code",
   "execution_count": 1,
   "metadata": {},
   "outputs": [],
   "source": [
    "import re"
   ]
  },
  {
   "cell_type": "code",
   "execution_count": null,
   "metadata": {},
   "outputs": [],
   "source": [
    "def car_id_validator(car_id):\n",
    "    validator = r'([А,В,Е,К,М,Н,О,Р,С,Т,У,Х]{1})(\\d{3})([А,В,Е,К,М,Н,О,Р,С,Т,У,Х]{2})(\\d{2,3})'\n",
    "    validator_result = re.findall(validator, car_id)\n",
    "    region = re.search(validator, car_id)\n",
    "    print('Номер', car_id, 'валиден', 'Регион:', region.group(4) if validator_result else, 'Номер не валиден')"
   ]
  },
  {
   "cell_type": "markdown",
   "metadata": {},
   "source": [
    "Задание 2"
   ]
  },
  {
   "cell_type": "code",
   "execution_count": null,
   "metadata": {},
   "outputs": [],
   "source": [
    "import re\n",
    "def del_doubled_words(some_string):\n",
    "    print( re.sub(r'\\b([^\\W\\d_]+)(\\s+\\1)+\\b', r'\\1', re.sub(r'\\W+', ' ', some_string).strip(), flags=re.I))"
   ]
  },
  {
   "cell_type": "markdown",
   "metadata": {},
   "source": [
    "Задание 3"
   ]
  },
  {
   "cell_type": "code",
   "execution_count": null,
   "metadata": {},
   "outputs": [],
   "source": [
    "def first_letters(some_words):\n",
    "    print(re.findall(r'(\\w\\)\\w*\\( \\|$\\))'))"
   ]
  },
  {
   "cell_type": "markdown",
   "metadata": {},
   "source": [
    "Задание 4"
   ]
  },
  {
   "cell_type": "code",
   "execution_count": null,
   "metadata": {},
   "outputs": [],
   "source": [
    "def number_of_domains(emails):\n",
    "    list_of_domains = re.findall(r'(?<=@)[^.]+(?=\\.)\\w', emails)\n",
    "    domains = re.sub(r'(?<=@)[^.]+(?=\\.)\\w', r'(?<=@)[^.]+(?=\\.)\\w\\+1', list_of_domains)\n",
    "   \n",
    " return print(domains)"
   ]
  }
 ],
 "metadata": {
  "kernelspec": {
   "display_name": "Python 3",
   "language": "python",
   "name": "python3"
  },
  "language_info": {
   "codemirror_mode": {
    "name": "ipython",
    "version": 3
   },
   "file_extension": ".py",
   "mimetype": "text/x-python",
   "name": "python",
   "nbconvert_exporter": "python",
   "pygments_lexer": "ipython3",
   "version": "3.8.3"
  }
 },
 "nbformat": 4,
 "nbformat_minor": 4
}
